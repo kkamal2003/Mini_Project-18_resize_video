{
  "nbformat": 4,
  "nbformat_minor": 0,
  "metadata": {
    "colab": {
      "provenance": [],
      "authorship_tag": "ABX9TyOv3/5DdwZjdmYV1MeXRs/2",
      "include_colab_link": true
    },
    "kernelspec": {
      "name": "python3",
      "display_name": "Python 3"
    },
    "language_info": {
      "name": "python"
    }
  },
  "cells": [
    {
      "cell_type": "markdown",
      "metadata": {
        "id": "view-in-github",
        "colab_type": "text"
      },
      "source": [
        "<a href=\"https://colab.research.google.com/github/kkamal2003/Mini_Project-18_resize_video/blob/main/Mini_Project_18_resize_video.ipynb\" target=\"_parent\"><img src=\"https://colab.research.google.com/assets/colab-badge.svg\" alt=\"Open In Colab\"/></a>"
      ]
    },
    {
      "cell_type": "code",
      "execution_count": 5,
      "metadata": {
        "colab": {
          "base_uri": "https://localhost:8080/"
        },
        "id": "p2iavrak3V1D",
        "outputId": "6c425337-2671-48c3-ec44-7c0ee83c2d76"
      },
      "outputs": [
        {
          "output_type": "stream",
          "name": "stdout",
          "text": [
            "Looking in indexes: https://pypi.org/simple, https://us-python.pkg.dev/colab-wheels/public/simple/\n",
            "Requirement already satisfied: pytube in /usr/local/lib/python3.10/dist-packages (15.0.0)\n"
          ]
        }
      ],
      "source": [
        "pip install pytube"
      ]
    },
    {
      "cell_type": "code",
      "source": [
        "from pytube import YouTube\n",
        "\n",
        "video_url = \"https://www.youtube.com/watch?v=PeMlggyqz0Y\"\n",
        "yt = YouTube(video_url)\n",
        "\n",
        "# Set the desired video quality\n",
        "desired_quality = \"720p\"  # Example: \"720p\", \"480p\", \"360p\", \"240p\", etc.\n",
        "\n",
        "# Filter the streams based on the desired quality\n",
        "filtered_streams = yt.streams.filter(res=desired_quality)\n",
        "\n",
        "if len(filtered_streams) > 0:\n",
        "    # Get the first stream from the filtered list\n",
        "    stream = filtered_streams.first()\n",
        "\n",
        "    print(f\"Downloading: {yt.title} ({desired_quality})\")\n",
        "    stream.download()\n",
        "else:\n",
        "    print(f\"No streams found with the quality: {desired_quality}\")\n"
      ],
      "metadata": {
        "colab": {
          "base_uri": "https://localhost:8080/"
        },
        "id": "dEiQ7quF3aMk",
        "outputId": "31167de3-6b85-497d-f6e7-737a2c0a9d84"
      },
      "execution_count": 6,
      "outputs": [
        {
          "output_type": "stream",
          "name": "stdout",
          "text": [
            "Downloading: Machine Learning Explained in 100 Seconds (720p)\n"
          ]
        }
      ]
    },
    {
      "cell_type": "code",
      "source": [
        "import cv2\n",
        "from moviepy.editor import VideoFileClip\n",
        "\n",
        "# Load the video\n",
        "video_path = \"/content/Machine Learning Explained in 100 Seconds.mp4\"\n",
        "cap = cv2.VideoCapture(video_path)\n",
        "\n",
        "# Get the video properties\n",
        "fps = cap.get(cv2.CAP_PROP_FPS)\n",
        "width = int(cap.get(cv2.CAP_PROP_FRAME_WIDTH))\n",
        "height = int(cap.get(cv2.CAP_PROP_FRAME_HEIGHT))\n",
        "\n",
        "# Calculate the new dimensions for resizing\n",
        "new_width = int(width * 0.5)\n",
        "new_height = int(height * 0.5)\n",
        "\n",
        "# Create a VideoWriter object to save the resized video\n",
        "output_path = \"output_video.mp4\"\n",
        "fourcc = cv2.VideoWriter_fourcc(*\"mp4v\")\n",
        "out = cv2.VideoWriter(output_path, fourcc, fps, (new_width, new_height))\n",
        "\n",
        "# Loop through the video frames\n",
        "while cap.isOpened():\n",
        "    ret, frame = cap.read()\n",
        "    if ret:\n",
        "        # Resize the frame\n",
        "        resized_frame = cv2.resize(frame, (new_width, new_height))\n",
        "\n",
        "        # Write the resized frame to the output video\n",
        "        out.write(resized_frame)\n",
        "\n",
        "        # Check if the 'q' key is pressed to quit\n",
        "        if cv2.waitKey(1) & 0xFF == ord('q'):\n",
        "            break\n",
        "    else:\n",
        "        break\n",
        "\n",
        "# Release the video capture and writer objects\n",
        "cap.release()\n",
        "out.release()\n",
        "\n",
        "# Close the OpenCV windows\n",
        "cv2.destroyAllWindows()\n",
        "\n",
        "# Add audio to the resized video using moviepy\n",
        "video_clip = VideoFileClip(output_path)\n",
        "video_clip1 = VideoFileClip(video_path)\n",
        "audio_clip = video_clip1.audio\n",
        "final_clip = video_clip.set_audio(audio_clip)\n",
        "final_output_path = \"output_video_with_audio.mp4\"\n",
        "final_clip.write_videofile(final_output_path, codec=\"libx264\", audio_codec=\"aac\")\n",
        "\n",
        "print(\"Resizing complete. Resized video with audio saved.\")\n"
      ],
      "metadata": {
        "colab": {
          "base_uri": "https://localhost:8080/"
        },
        "id": "Gm2ND7Tm3bkO",
        "outputId": "a1d05b57-741d-475b-b085-cc26bacc0aa2"
      },
      "execution_count": 12,
      "outputs": [
        {
          "output_type": "stream",
          "name": "stdout",
          "text": [
            "Moviepy - Building video output_video_with_audio.mp4.\n",
            "MoviePy - Writing audio in output_video_with_audioTEMP_MPY_wvf_snd.mp4\n"
          ]
        },
        {
          "output_type": "stream",
          "name": "stderr",
          "text": []
        },
        {
          "output_type": "stream",
          "name": "stdout",
          "text": [
            "MoviePy - Done.\n",
            "Moviepy - Writing video output_video_with_audio.mp4\n",
            "\n"
          ]
        },
        {
          "output_type": "stream",
          "name": "stderr",
          "text": [
            "t: 100%|█████████▉| 4608/4618 [00:47<00:00, 64.99it/s, now=None]WARNING:py.warnings:/usr/local/lib/python3.10/dist-packages/moviepy/video/io/ffmpeg_reader.py:123: UserWarning: Warning: in file output_video.mp4, 691200 bytes wanted but 0 bytes read,at frame 4617/4618, at time 154.05/154.06 sec. Using the last valid frame instead.\n",
            "  warnings.warn(\"Warning: in file %s, \"%(self.filename)+\n",
            "\n"
          ]
        },
        {
          "output_type": "stream",
          "name": "stdout",
          "text": [
            "Moviepy - Done !\n",
            "Moviepy - video ready output_video_with_audio.mp4\n",
            "Resizing complete. Resized video with audio saved.\n"
          ]
        }
      ]
    }
  ]
}